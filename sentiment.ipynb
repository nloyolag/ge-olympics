{
 "cells": [
  {
   "cell_type": "code",
   "execution_count": 1,
   "metadata": {
    "collapsed": true
   },
   "outputs": [],
   "source": [
    "import gzip\n",
    "import json\n",
    "import pandas as pd\n",
    "import os\n",
    "import multiprocessing\n",
    "from functools import reduce, partial\n",
    "from vaderSentiment.vaderSentiment import sentiment as vaderSentiment"
   ]
  },
  {
   "cell_type": "code",
   "execution_count": 2,
   "metadata": {
    "collapsed": false
   },
   "outputs": [],
   "source": [
    "tweets = []\n",
    "with gzip.open(\"./olympics/2016-08-02-14.gz\") as f:\n",
    "    for line in f.readlines():\n",
    "        tweets.append(json.loads(line))\n",
    "\n",
    "dataset = pd.DataFrame(tweets)"
   ]
  },
  {
   "cell_type": "code",
   "execution_count": 3,
   "metadata": {
    "collapsed": false
   },
   "outputs": [],
   "source": [
    "# Create additional columns\n",
    "dataset['screen_name'] = dataset.user.map(lambda x: x['screen_name'].lower())\n",
    "dataset['name'] = dataset.user.map(lambda x: x['name'].lower())\n",
    "dataset['statuses_count'] = dataset.user.map(lambda x: x['statuses_count'])\n",
    "dataset['followers_count'] = dataset.user.map(lambda x: x['followers_count'])\n",
    "dataset['text_lower'] = dataset.text.apply(lambda x: x.lower())"
   ]
  },
  {
   "cell_type": "code",
   "execution_count": 85,
   "metadata": {
    "collapsed": false
   },
   "outputs": [
    {
     "data": {
      "text/plain": [
       "0.058936272160996644"
      ]
     },
     "execution_count": 85,
     "metadata": {},
     "output_type": "execute_result"
    }
   ],
   "source": [
    "corpus = dataset['text_lower']\n",
    "sentiments = {}\n",
    "\n",
    "def get_sentiment(scores):\n",
    "    positive_value = scores['pos']\n",
    "    negative_value = scores['neg']\n",
    "    neutral_value = scores['neu']\n",
    "    \n",
    "    values = [positive_value, negative_value, neutral_value]\n",
    "    \n",
    "    if positive_value == max(values): return \"positive\"\n",
    "    if negative_value == max(values): return \"negative\"\n",
    "    if neutral_value == max(values): \n",
    "        if positive_value > 0.25 or negative_value > 0.25:\n",
    "            return \"positive\" if positive_value > negative_value else \"negative\"\n",
    "    \n",
    "def analyse_sentiment(corpus):\n",
    "    for index, row in corpus.iteritems():\n",
    "        scores = vaderSentiment(row.encode('utf-8'))\n",
    "        sentiments[row] = get_sentiment(scores)\n",
    "        \n",
    "analyse_sentiment(corpus)\n",
    "\n",
    "positive_tweets = sum(1 for x in sentiments.values() if x == \"positive\")\n",
    "negative_tweets = sum(1 for x in sentiments.values() if x == \"negative\")\n",
    "\n",
    "#sentiments\n",
    "\n",
    "#{k: v for k, v in sentiments.iteritems() if v == \"negative\"}\n",
    "\n",
    "#len(corpus)\n",
    "#positive_tweets / float(len(corpus))\n",
    "#negative_tweets / float(len(corpus))"
   ]
  },
  {
   "cell_type": "code",
   "execution_count": null,
   "metadata": {
    "collapsed": true
   },
   "outputs": [],
   "source": []
  }
 ],
 "metadata": {
  "anaconda-cloud": {},
  "kernelspec": {
   "display_name": "Python [conda env:olympics]",
   "language": "python",
   "name": "conda-env-olympics-py"
  },
  "language_info": {
   "codemirror_mode": {
    "name": "ipython",
    "version": 2
   },
   "file_extension": ".py",
   "mimetype": "text/x-python",
   "name": "python",
   "nbconvert_exporter": "python",
   "pygments_lexer": "ipython2",
   "version": "2.7.12"
  }
 },
 "nbformat": 4,
 "nbformat_minor": 1
}
