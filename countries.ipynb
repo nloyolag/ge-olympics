{
 "cells": [
  {
   "cell_type": "code",
   "execution_count": 2,
   "metadata": {
    "collapsed": false,
    "scrolled": false
   },
   "outputs": [
    {
     "name": "stdout",
     "output_type": "stream",
     "text": [
      "1359\n"
     ]
    }
   ],
   "source": [
    "import gzip\n",
    "import json\n",
    "import pandas as pd\n",
    "import os\n",
    "import requests\n",
    "\n",
    "tweets = []\n",
    "with gzip.open(\"./olympics/2016-07-02-13.gz\") as f:\n",
    "    for line in f.readlines():\n",
    "        tweets.append(json.loads(line))\n",
    "        \n",
    "dataset = pd.DataFrame(tweets)\n",
    "print len(dataset)\n",
    "\n",
    "# Create additional columns\n",
    "dataset['screen_name'] = dataset.user.map(lambda x: x['screen_name'].lower())\n",
    "dataset['name'] = dataset.user.map(lambda x: x['name'].lower())\n",
    "dataset['statuses_count'] = dataset.user.map(lambda x: x['statuses_count'])\n",
    "dataset['followers_count'] = dataset.user.map(lambda x: x['followers_count'])\n",
    "dataset['text_lower'] = dataset.text.apply(lambda x: x.lower())"
   ]
  },
  {
   "cell_type": "code",
   "execution_count": 22,
   "metadata": {
    "collapsed": false,
    "scrolled": true
   },
   "outputs": [
    {
     "name": "stdout",
     "output_type": "stream",
     "text": [
      "         count\n",
      "country       \n",
      "US          17\n",
      "GB           6\n",
      "NL           2\n",
      "AU           1\n",
      "ID           1\n",
      "NG           1\n",
      "PH           1\n"
     ]
    },
    {
     "name": "stderr",
     "output_type": "stream",
     "text": [
      "/home/marc/Programmation/ge-olympics/env/lib/python2.7/site-packages/ipykernel/__main__.py:11: SettingWithCopyWarning: \n",
      "A value is trying to be set on a copy of a slice from a DataFrame.\n",
      "Try using .loc[row_indexer,col_indexer] = value instead\n",
      "\n",
      "See the caveats in the documentation: http://pandas.pydata.org/pandas-docs/stable/indexing.html#indexing-view-versus-copy\n",
      "/home/marc/Programmation/ge-olympics/env/lib/python2.7/site-packages/ipykernel/__main__.py:17: SettingWithCopyWarning: \n",
      "A value is trying to be set on a copy of a slice from a DataFrame.\n",
      "Try using .loc[row_indexer,col_indexer] = value instead\n",
      "\n",
      "See the caveats in the documentation: http://pandas.pydata.org/pandas-docs/stable/indexing.html#indexing-view-versus-copy\n",
      "/home/marc/Programmation/ge-olympics/env/lib/python2.7/site-packages/ipykernel/__main__.py:24: FutureWarning: sort(columns=....) is deprecated, use sort_values(by=.....)\n"
     ]
    }
   ],
   "source": [
    "# guess country from coodrinates\n",
    "def get_reverse_geocoding(coordinates):\n",
    "    response = requests.get(\"http://api.geonames.org/countryCode?lng=\"\n",
    "                           + str(coordinates[0]) + \"&lat=\" + str(coordinates[1]) + \"&username=a01200356\")\n",
    "    text = response.text\n",
    "    if len(text) > 4:\n",
    "        return None\n",
    "    return text[:2]\n",
    "\n",
    "tweets_with_coordinates = dataset.dropna(subset=['coordinates'])\n",
    "tweets_with_coordinates['country'] = tweets_with_coordinates.coordinates.map(lambda x: get_reverse_geocoding(x['coordinates']))\n",
    "tweets_with_coordinates = tweets_with_coordinates.dropna(subset=['country'])\n",
    "# print tweets_with_coordinates['country']\n",
    "\n",
    "# get country from place\n",
    "tweets_with_place = dataset.dropna(subset=['place'])\n",
    "tweets_with_place['country'] = tweets_with_place.place.map(lambda x: x['country_code'])\n",
    "# print tweets_with_place['country']\n",
    "\n",
    "# merge two resulting datasets\n",
    "tweets_with_country = pd.concat([tweets_with_coordinates, tweets_with_place], join='outer')\n",
    "tweets_with_country = tweets_with_country.dropna(subset=['country'])\n",
    "# print tweets_with_country['country']\n",
    "\n",
    "# count\n",
    "country_counts = tweets_with_country[['country', 'text_lower']].groupby('country').agg('count').rename(columns={'text_lower': 'count'}).sort('count', ascending=False)\n",
    "print country_counts"
   ]
  },
  {
   "cell_type": "code",
   "execution_count": null,
   "metadata": {
    "collapsed": true
   },
   "outputs": [],
   "source": []
  }
 ],
 "metadata": {
  "kernelspec": {
   "display_name": "Python 2",
   "language": "python",
   "name": "python2"
  },
  "language_info": {
   "codemirror_mode": {
    "name": "ipython",
    "version": 2
   },
   "file_extension": ".py",
   "mimetype": "text/x-python",
   "name": "python",
   "nbconvert_exporter": "python",
   "pygments_lexer": "ipython2",
   "version": "2.7.9"
  }
 },
 "nbformat": 4,
 "nbformat_minor": 1
}
