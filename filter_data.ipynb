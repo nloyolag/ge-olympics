{
 "cells": [
  {
   "cell_type": "code",
   "execution_count": 1,
   "metadata": {
    "collapsed": true
   },
   "outputs": [],
   "source": [
    "import gzip\n",
    "import json\n",
    "import pandas as pd\n",
    "import os\n",
    "import multiprocessing\n",
    "from functools import reduce, partial"
   ]
  },
  {
   "cell_type": "code",
   "execution_count": 2,
   "metadata": {
    "collapsed": false
   },
   "outputs": [
    {
     "data": {
      "text/plain": [
       "Index([u'contributors', u'coordinates', u'created_at', u'entities',\n",
       "       u'extended_entities', u'favorite_count', u'favorited', u'filter_level',\n",
       "       u'geo', u'id', u'id_str', u'in_reply_to_screen_name',\n",
       "       u'in_reply_to_status_id', u'in_reply_to_status_id_str',\n",
       "       u'in_reply_to_user_id', u'in_reply_to_user_id_str', u'is_quote_status',\n",
       "       u'lang', u'place', u'possibly_sensitive', u'quoted_status',\n",
       "       u'quoted_status_id', u'quoted_status_id_str', u'retweet_count',\n",
       "       u'retweeted', u'retweeted_status', u'scopes', u'source', u'text',\n",
       "       u'timestamp_ms', u'truncated', u'user', u'withheld_in_countries'],\n",
       "      dtype='object')"
      ]
     },
     "execution_count": 2,
     "metadata": {},
     "output_type": "execute_result"
    }
   ],
   "source": [
    "tweets = []\n",
    "with gzip.open(\"./olympics/2016-07-02-14.gz\") as f:\n",
    "    for line in f.readlines():\n",
    "        tweets.append(json.loads(line))\n",
    "        \n",
    "dataset = pd.DataFrame(tweets)\n",
    "dataset.keys()"
   ]
  },
  {
   "cell_type": "code",
   "execution_count": 5,
   "metadata": {
    "collapsed": false
   },
   "outputs": [
    {
     "name": "stdout",
     "output_type": "stream",
     "text": [
      "1 3045\n",
      "2 3311\n",
      "3 3019\n",
      "4 2415\n",
      "5 3140\n",
      "6 2306\n",
      "7 2617\n",
      "8 2175\n",
      "9 2094\n",
      "10 1934\n",
      "11 2210\n",
      "12 1839\n",
      "13 1811\n",
      "14 2106\n",
      "15 1896\n",
      "16 1848\n",
      "17 2382\n",
      "18 2532\n",
      "19 2523\n",
      "20 2708\n",
      "21 3466\n",
      "22 3561\n",
      "23 3574\n",
      "24 3797\n",
      "25 3677\n",
      "26 4189\n",
      "27 3115\n",
      "28 3634\n",
      "29 3753\n",
      "30 2959\n",
      "31 2953\n",
      "32 2710\n",
      "33 2777\n",
      "34 2752\n",
      "35 3185\n",
      "36 2287\n",
      "37 2601\n",
      "38 2844\n",
      "39 2462\n",
      "40 2974\n",
      "41 3669\n",
      "42 4000\n",
      "43 4172\n",
      "44 5407\n",
      "45 5572\n",
      "46 6014\n",
      "47 5414\n",
      "48 5128\n",
      "49 4963\n",
      "50 4726\n",
      "51 4229\n",
      "52 4748\n",
      "53 3732\n",
      "54 4383\n",
      "55 3908\n",
      "56 4844\n",
      "57 4033\n",
      "58 3489\n",
      "59 3196\n",
      "60 3459\n",
      "61 3209\n",
      "62 4034\n",
      "63 3458\n",
      "64 3748\n",
      "65 3955\n",
      "66 4739\n",
      "67 5052\n",
      "68 6261\n",
      "69 6436\n",
      "70 6304\n",
      "71 7836\n",
      "72 7971\n",
      "73 6688\n",
      "74 7513\n",
      "75 6799\n",
      "76 6523\n",
      "77 5533\n",
      "78 5151\n",
      "79 5485\n",
      "80 4526\n",
      "81 4023\n",
      "82 3390\n",
      "83 3297\n",
      "84 3274\n",
      "85 3255\n",
      "86 3308\n",
      "87 4443\n",
      "88 4535\n",
      "89 4695\n",
      "90 7007\n",
      "91 8442\n",
      "92 8575\n",
      "93 8978\n",
      "94 10410\n",
      "95 10691\n",
      "96 12465\n",
      "97 12820\n",
      "98 17077\n",
      "99 14499\n",
      "100 16979\n",
      "101 10958\n",
      "102 8428\n",
      "103 7037\n",
      "104 5852\n"
     ]
    }
   ],
   "source": [
    "data_path = \"olympics/\"\n",
    "files = sorted(os.listdir(data_path))\n",
    "intervals = [(0, 288), (288, 576), (576, 864), (864, 1152), (1152, 1441)]\n",
    "absolute_paths = list(map(lambda fp: data_path + fp, files))\n",
    "ge_names = set(['ge_appliances', 'generalelectric', 'general electric'])\n",
    "tweets = []\n",
    "result = pd.DataFrame()\n",
    "\n",
    "# Choose your own interval\n",
    "i = 0\n",
    "for path in absolute_paths[intervals[2][0]:intervals[2][1]]:\n",
    "    with gzip.open(path) as f:\n",
    "        try:\n",
    "            for line in f.readlines():\n",
    "                try:\n",
    "                    tweets.append(json.loads(line))\n",
    "                except:\n",
    "                    print \"DP\"\n",
    "            dataset = pd.DataFrame(tweets)  \n",
    "            dataset['username'] = dataset.user.map(lambda x: x['screen_name'].lower())\n",
    "            dataset['mentions_ge'] = dataset.text.map(lambda x: any(name in x.lower() for name in ge_names))\n",
    "            # dataset = dataset[dataset.username != 'alexrubiodawson']\n",
    "            ge_tweets = dataset[(dataset.username == 'ge_appliances') | (dataset.username == 'generalelectric')]\n",
    "            tweets_mentioning_ge = dataset[dataset.mentions_ge]\n",
    "            result.append(ge_tweets)\n",
    "            result.append(tweets_mentioning_ge)\n",
    "        except:\n",
    "            print \"Fuck You\"\n",
    "    i += 1\n",
    "    print i, len(tweets)\n",
    "    tweets = []"
   ]
  },
  {
   "cell_type": "code",
   "execution_count": 6,
   "metadata": {
    "collapsed": false
   },
   "outputs": [
    {
     "name": "stdout",
     "output_type": "stream",
     "text": [
      "<class 'pandas.core.frame.DataFrame'>\n",
      "Index: 0 entries\n",
      "Empty DataFrame"
     ]
    }
   ],
   "source": [
    "result.info()"
   ]
  },
  {
   "cell_type": "code",
   "execution_count": null,
   "metadata": {
    "collapsed": true
   },
   "outputs": [],
   "source": []
  }
 ],
 "metadata": {
  "anaconda-cloud": {},
  "kernelspec": {
   "display_name": "Python 2",
   "language": "python",
   "name": "python2"
  },
  "language_info": {
   "codemirror_mode": {
    "name": "ipython",
    "version": 2
   },
   "file_extension": ".py",
   "mimetype": "text/x-python",
   "name": "python",
   "nbconvert_exporter": "python",
   "pygments_lexer": "ipython2",
   "version": "2.7.12"
  }
 },
 "nbformat": 4,
 "nbformat_minor": 1
}
