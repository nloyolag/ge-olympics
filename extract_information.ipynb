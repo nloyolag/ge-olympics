{
 "cells": [
  {
   "cell_type": "code",
   "execution_count": 25,
   "metadata": {
    "collapsed": true
   },
   "outputs": [],
   "source": [
    "import gzip\n",
    "import json\n",
    "import pandas as pd\n",
    "import os\n",
    "import re"
   ]
  },
  {
   "cell_type": "code",
   "execution_count": 26,
   "metadata": {
    "collapsed": false
   },
   "outputs": [
    {
     "ename": "IOError",
     "evalue": "[Errno 2] No such file or directory: './olympics/2016-08-02-14.gz'",
     "output_type": "error",
     "traceback": [
      "\u001b[0;31m---------------------------------------------------------------------------\u001b[0m",
      "\u001b[0;31mIOError\u001b[0m                                   Traceback (most recent call last)",
      "\u001b[0;32m<ipython-input-2-e5a9967f21c7>\u001b[0m in \u001b[0;36m<module>\u001b[0;34m()\u001b[0m\n\u001b[1;32m      2\u001b[0m \u001b[1;33m\u001b[0m\u001b[0m\n\u001b[1;32m      3\u001b[0m \u001b[0mtweets\u001b[0m \u001b[1;33m=\u001b[0m \u001b[1;33m[\u001b[0m\u001b[1;33m]\u001b[0m\u001b[1;33m\u001b[0m\u001b[0m\n\u001b[0;32m----> 4\u001b[0;31m \u001b[1;32mwith\u001b[0m \u001b[0mgzip\u001b[0m\u001b[1;33m.\u001b[0m\u001b[0mopen\u001b[0m\u001b[1;33m(\u001b[0m\u001b[1;34m\"./olympics/2016-08-02-14.gz\"\u001b[0m\u001b[1;33m)\u001b[0m \u001b[1;32mas\u001b[0m \u001b[0mf\u001b[0m\u001b[1;33m:\u001b[0m\u001b[1;33m\u001b[0m\u001b[0m\n\u001b[0m\u001b[1;32m      5\u001b[0m     \u001b[1;32mfor\u001b[0m \u001b[0mline\u001b[0m \u001b[1;32min\u001b[0m \u001b[0mf\u001b[0m\u001b[1;33m.\u001b[0m\u001b[0mreadlines\u001b[0m\u001b[1;33m(\u001b[0m\u001b[1;33m)\u001b[0m\u001b[1;33m:\u001b[0m\u001b[1;33m\u001b[0m\u001b[0m\n\u001b[1;32m      6\u001b[0m         \u001b[0mtweets\u001b[0m\u001b[1;33m.\u001b[0m\u001b[0mappend\u001b[0m\u001b[1;33m(\u001b[0m\u001b[0mjson\u001b[0m\u001b[1;33m.\u001b[0m\u001b[0mloads\u001b[0m\u001b[1;33m(\u001b[0m\u001b[0mline\u001b[0m\u001b[1;33m)\u001b[0m\u001b[1;33m)\u001b[0m\u001b[1;33m\u001b[0m\u001b[0m\n",
      "\u001b[0;32mC:\\Users\\Rodrack\\Anaconda\\envs\\olympics\\lib\\gzip.pyc\u001b[0m in \u001b[0;36mopen\u001b[0;34m(filename, mode, compresslevel)\u001b[0m\n\u001b[1;32m     32\u001b[0m \u001b[1;33m\u001b[0m\u001b[0m\n\u001b[1;32m     33\u001b[0m     \"\"\"\n\u001b[0;32m---> 34\u001b[0;31m     \u001b[1;32mreturn\u001b[0m \u001b[0mGzipFile\u001b[0m\u001b[1;33m(\u001b[0m\u001b[0mfilename\u001b[0m\u001b[1;33m,\u001b[0m \u001b[0mmode\u001b[0m\u001b[1;33m,\u001b[0m \u001b[0mcompresslevel\u001b[0m\u001b[1;33m)\u001b[0m\u001b[1;33m\u001b[0m\u001b[0m\n\u001b[0m\u001b[1;32m     35\u001b[0m \u001b[1;33m\u001b[0m\u001b[0m\n\u001b[1;32m     36\u001b[0m \u001b[1;32mclass\u001b[0m \u001b[0mGzipFile\u001b[0m\u001b[1;33m(\u001b[0m\u001b[0mio\u001b[0m\u001b[1;33m.\u001b[0m\u001b[0mBufferedIOBase\u001b[0m\u001b[1;33m)\u001b[0m\u001b[1;33m:\u001b[0m\u001b[1;33m\u001b[0m\u001b[0m\n",
      "\u001b[0;32mC:\\Users\\Rodrack\\Anaconda\\envs\\olympics\\lib\\gzip.pyc\u001b[0m in \u001b[0;36m__init__\u001b[0;34m(self, filename, mode, compresslevel, fileobj, mtime)\u001b[0m\n\u001b[1;32m     92\u001b[0m             \u001b[0mmode\u001b[0m \u001b[1;33m+=\u001b[0m \u001b[1;34m'b'\u001b[0m\u001b[1;33m\u001b[0m\u001b[0m\n\u001b[1;32m     93\u001b[0m         \u001b[1;32mif\u001b[0m \u001b[0mfileobj\u001b[0m \u001b[1;32mis\u001b[0m \u001b[0mNone\u001b[0m\u001b[1;33m:\u001b[0m\u001b[1;33m\u001b[0m\u001b[0m\n\u001b[0;32m---> 94\u001b[0;31m             \u001b[0mfileobj\u001b[0m \u001b[1;33m=\u001b[0m \u001b[0mself\u001b[0m\u001b[1;33m.\u001b[0m\u001b[0mmyfileobj\u001b[0m \u001b[1;33m=\u001b[0m \u001b[0m__builtin__\u001b[0m\u001b[1;33m.\u001b[0m\u001b[0mopen\u001b[0m\u001b[1;33m(\u001b[0m\u001b[0mfilename\u001b[0m\u001b[1;33m,\u001b[0m \u001b[0mmode\u001b[0m \u001b[1;32mor\u001b[0m \u001b[1;34m'rb'\u001b[0m\u001b[1;33m)\u001b[0m\u001b[1;33m\u001b[0m\u001b[0m\n\u001b[0m\u001b[1;32m     95\u001b[0m         \u001b[1;32mif\u001b[0m \u001b[0mfilename\u001b[0m \u001b[1;32mis\u001b[0m \u001b[0mNone\u001b[0m\u001b[1;33m:\u001b[0m\u001b[1;33m\u001b[0m\u001b[0m\n\u001b[1;32m     96\u001b[0m             \u001b[1;31m# Issue #13781: os.fdopen() creates a fileobj with a bogus name\u001b[0m\u001b[1;33m\u001b[0m\u001b[1;33m\u001b[0m\u001b[0m\n",
      "\u001b[0;31mIOError\u001b[0m: [Errno 2] No such file or directory: './olympics/2016-08-02-14.gz'"
     ]
    }
   ],
   "source": [
    "# What was the impact of the GE brand in the collection of tweets gathered in the past Olympic games?\n",
    "\n",
    "tweets = []\n",
    "with gzip.open(\"./olympics/2016-08-02-14.gz\") as f:\n",
    "    for line in f.readlines():\n",
    "        tweets.append(json.loads(line))\n",
    "        \n",
    "dataset = pd.DataFrame(tweets)\n",
    "dataset.info()"
   ]
  },
  {
   "cell_type": "code",
   "execution_count": 27,
   "metadata": {
    "collapsed": false
   },
   "outputs": [],
   "source": [
    "# Create additional columns\n",
    "dataset['screen_name'] = dataset.user.map(lambda x: x['screen_name'].lower())\n",
    "dataset['name'] = dataset.user.map(lambda x: x['name'].lower())\n",
    "dataset['statuses_count'] = dataset.user.map(lambda x: x['statuses_count'])\n",
    "dataset['followers_count'] = dataset.user.map(lambda x: x['followers_count'])\n",
    "dataset['text_lower'] = dataset.text.apply(lambda x: x.lower())"
   ]
  },
  {
   "cell_type": "code",
   "execution_count": 28,
   "metadata": {
    "collapsed": false
   },
   "outputs": [
    {
     "data": {
      "text/plain": [
       "nan"
      ]
     },
     "execution_count": 28,
     "metadata": {},
     "output_type": "execute_result"
    }
   ],
   "source": [
    "ge_accounts = ['generalelectric', \n",
    "               'ge_reports', \n",
    "               'gedobrasil', \n",
    "               'ge_canada', \n",
    "               'gehealthcare', \n",
    "               'ge_digital', \n",
    "               'gedesign', \n",
    "               'ge_water', \n",
    "               'gecareeers_latam', \n",
    "               'geaviation', \n",
    "               'ge_appliances', \n",
    "               'gepublicaffairs', \n",
    "               'gecapital', \n",
    "               'ge_uk', \n",
    "               'geinfosec', \n",
    "               'ge_power', \n",
    "               'geresearch', \n",
    "               'ge_oilandgas', \n",
    "               'gelighting', \n",
    "               'ge_foundation', \n",
    "               'ge_gaspower']\n",
    "dataset['retweeted_status'][2]"
   ]
  },
  {
   "cell_type": "code",
   "execution_count": 29,
   "metadata": {
    "collapsed": false
   },
   "outputs": [
    {
     "name": "stdout",
     "output_type": "stream",
     "text": [
      "<class 'pandas.core.frame.DataFrame'>\n",
      "RangeIndex: 6261 entries, 0 to 6260\n",
      "Data columns (total 37 columns):\n",
      "contributors                 0 non-null object\n",
      "coordinates                  15 non-null object\n",
      "created_at                   6261 non-null object\n",
      "entities                     6261 non-null object\n",
      "extended_entities            2388 non-null object\n",
      "favorite_count               6261 non-null int64\n",
      "favorited                    6261 non-null bool\n",
      "filter_level                 6261 non-null object\n",
      "geo                          15 non-null object\n",
      "id                           6261 non-null int64\n",
      "id_str                       6261 non-null object\n",
      "in_reply_to_screen_name      213 non-null object\n",
      "in_reply_to_status_id        147 non-null float64\n",
      "in_reply_to_status_id_str    147 non-null object\n",
      "in_reply_to_user_id          213 non-null float64\n",
      "in_reply_to_user_id_str      213 non-null object\n",
      "is_quote_status              6261 non-null bool\n",
      "lang                         6261 non-null object\n",
      "place                        114 non-null object\n",
      "possibly_sensitive           5005 non-null object\n",
      "quoted_status                134 non-null object\n",
      "quoted_status_id             134 non-null float64\n",
      "quoted_status_id_str         134 non-null object\n",
      "retweet_count                6261 non-null int64\n",
      "retweeted                    6261 non-null bool\n",
      "retweeted_status             3200 non-null object\n",
      "source                       6261 non-null object\n",
      "text                         6261 non-null object\n",
      "timestamp_ms                 6261 non-null object\n",
      "truncated                    6261 non-null bool\n",
      "user                         6261 non-null object\n",
      "withheld_in_countries        1 non-null object\n",
      "screen_name                  6261 non-null object\n",
      "name                         6261 non-null object\n",
      "statuses_count               6261 non-null int64\n",
      "followers_count              6261 non-null int64\n",
      "text_lower                   6261 non-null object\n",
      "dtypes: bool(4), float64(3), int64(5), object(25)\n",
      "memory usage: 1.6+ MB\n"
     ]
    }
   ],
   "source": [
    "# Volume\n",
    "volume_dict = {}\n",
    "\n",
    "# Tweets by GE\n",
    "ge_tweets = dataset[dataset['screen_name'].isin(ge_accounts)]\n",
    "volume_dict[\"tweets-by-ge\"] = len(ge_tweets)\n",
    "\n",
    "# Followers and tweet count per account\n",
    "volume_dict['accounts'] = {}\n",
    "ge_tweets_unique = ge_tweets.drop_duplicates(subset='screen_name')\n",
    "ge_tweets_unique = ge_tweets_unique[['name', 'screen_name', 'statuses_count', 'followers_count']]\n",
    "for index, row in ge_tweets_unique.iterrows():\n",
    "    volume_dict['accounts'][row['screen_name']] = {\n",
    "        'name': row['name'],\n",
    "        'tweets': row['statuses_count'],\n",
    "        'followers': row['followers_count'] \n",
    "    }\n",
    "         \n",
    "# Function to get counts per element\n",
    "def get_counts(elem_list, volume_dict, dataset, key):\n",
    "    current_count = 0\n",
    "    total_count = 0\n",
    "    for elem in elem_list:\n",
    "        current_count = len(dataset[dataset['text_lower'].str.contains(elem)])\n",
    "        volume_dict[key][elem] = current_count\n",
    "        total_count += current_count\n",
    "    return total_count\n",
    "\n",
    "# Function to get counts for a regex\n",
    "def get_regex_counts(volume_dict, dataset, key, regex, regexstr):\n",
    "    count = len(dataset[dataset['text_lower'].str.match(regex)])\n",
    "    volume_dict[key][regexstr] = count\n",
    "    return count\n",
    "\n",
    "# Dataset excluding GE's accounts\n",
    "exclude_ge = dataset[~dataset['screen_name'].isin(ge_accounts)]\n",
    "    \n",
    "# Mentions of GE accounts\n",
    "volume_dict['mentions'] = {}\n",
    "ge_mentions = list(ge_accounts)\n",
    "ge_mentions = ['@{0}'.format(account) for account in ge_mentions]\n",
    "ge_regex = re.compile('@ge | @ge$')\n",
    "total_mentions = get_counts(ge_mentions, volume_dict, exclude_ge, 'mentions')\n",
    "total_mentions += get_regex_counts(volume_dict, exclude_ge, 'mentions', ge_regex, \"@ge\")\n",
    "volume_dict['total_mentions'] = total_mentions\n",
    "\n",
    "# Hashtags of GE\n",
    "volume_dict['hashtags'] = {}\n",
    "ge_hashtags = list(ge_accounts)\n",
    "ge_hashtags = ['#{0}'.format(account) for account in ge_mentions]\n",
    "ge_hashtags.append(\"#general_electric\")\n",
    "ge_hashtag_regex = re.compile('#ge | #ge$')\n",
    "ge_dollar_regex = re.compile('\\$ge | \\$ge$')\n",
    "total_hashtags = get_counts(ge_hashtags, volume_dict, exclude_ge, 'hashtags')\n",
    "total_hashtags = get_regex_counts(volume_dict, exclude_ge, 'hashtags', ge_dollar_regex, \"$ge\")\n",
    "total_hashtags = get_regex_counts(volume_dict, exclude_ge, 'hashtags', ge_hashtag_regex, \"#ge\")\n",
    "volume_dict['total_hashtags'] = total_hashtags\n",
    "\n",
    "# GE mentioned in text\n",
    "volume_dict['text_mentions'] = {}\n",
    "ge_text = ['general electric', 'generalelectric']\n",
    "ge_website_regex = re.compile('ge.com | ge.com$')\n",
    "total_hashtags = get_counts(ge_text, volume_dict, exclude_ge, 'text_mentions')\n",
    "total_hashtags += get_regex_counts(volume_dict, exclude_ge, 'text_mentions', ge_website_regex, \"ge.com\")\n",
    "volume_dict['total_text_mentions'] = total_hashtags\n",
    "\n",
    "volume_dict"
   ]
  },
  {
   "cell_type": "code",
   "execution_count": 31,
   "metadata": {
    "collapsed": false
   },
   "outputs": [
    {
     "name": "stdout",
     "output_type": "stream",
     "text": [
      "<class 'pandas.core.frame.DataFrame'>\n",
      "Int64Index: 0 entries\n",
      "Data columns (total 38 columns):\n",
      "contributors                 0 non-null object\n",
      "coordinates                  0 non-null object\n",
      "created_at                   0 non-null object\n",
      "entities                     0 non-null object\n",
      "extended_entities            0 non-null object\n",
      "favorite_count               0 non-null int64\n",
      "favorited                    0 non-null bool\n",
      "filter_level                 0 non-null object\n",
      "geo                          0 non-null object\n",
      "id                           0 non-null int64\n",
      "id_str                       0 non-null object\n",
      "in_reply_to_screen_name      0 non-null object\n",
      "in_reply_to_status_id        0 non-null float64\n",
      "in_reply_to_status_id_str    0 non-null object\n",
      "in_reply_to_user_id          0 non-null float64\n",
      "in_reply_to_user_id_str      0 non-null object\n",
      "is_quote_status              0 non-null bool\n",
      "lang                         0 non-null object\n",
      "place                        0 non-null object\n",
      "possibly_sensitive           0 non-null object\n",
      "quoted_status                0 non-null object\n",
      "quoted_status_id             0 non-null float64\n",
      "quoted_status_id_str         0 non-null object\n",
      "retweet_count                0 non-null int64\n",
      "retweeted                    0 non-null bool\n",
      "retweeted_status             0 non-null object\n",
      "source                       0 non-null object\n",
      "text                         0 non-null object\n",
      "timestamp_ms                 0 non-null object\n",
      "truncated                    0 non-null bool\n",
      "user                         0 non-null object\n",
      "withheld_in_countries        0 non-null object\n",
      "screen_name                  0 non-null object\n",
      "name                         0 non-null object\n",
      "statuses_count               0 non-null int64\n",
      "followers_count              0 non-null int64\n",
      "text_lower                   0 non-null object\n",
      "reach                        0 non-null int64\n",
      "dtypes: bool(4), float64(3), int64(6), object(25)\n",
      "memory usage: 0.0+ bytes\n"
     ]
    }
   ],
   "source": [
    "# Reach\n",
    "\n",
    "# All tweets made by GE\n",
    "ge_tweets = dataset[dataset['screen_name'].isin(ge_accounts)]\n",
    "ge_tweets['reach'] = 0\n",
    "ge_tweets = ge_tweets['id', 'retweet_count', 'reach', 'screen_name']\n",
    "\n",
    "# GE retweeters\n",
    "exclude_ge = dataset[~dataset['screen_name'].isin(ge_accounts)]\n",
    "ge_retweets = ['^rt @{0}'.format(account) for account in ge_accounts]\n",
    "ge_retweeters = dataset[dataset['text_lower'].str.contains('|'.join(ge_retweets))]\n",
    "\n",
    "# For every GE tweet, we need to compute the reach.\n",
    "# for tweeter in ge_retweeters:\n",
    "#     ge_tweets[tweeter[retweet_status[id]]]['reach'] +"
   ]
  },
  {
   "cell_type": "code",
   "execution_count": null,
   "metadata": {
    "collapsed": true
   },
   "outputs": [],
   "source": [
    "# Sentiment"
   ]
  },
  {
   "cell_type": "code",
   "execution_count": null,
   "metadata": {
    "collapsed": true
   },
   "outputs": [],
   "source": [
    "# Audience Characteristics\n",
    "\n",
    "# Lang\n",
    "# Location\n",
    "\n",
    "# Most active participants\n",
    "# Most influential participants\n",
    "# Most influential content"
   ]
  }
 ],
 "metadata": {
  "anaconda-cloud": {},
  "kernelspec": {
   "display_name": "Python [default]",
   "language": "python",
   "name": "python2"
  },
  "language_info": {
   "codemirror_mode": {
    "name": "ipython",
    "version": 2
   },
   "file_extension": ".py",
   "mimetype": "text/x-python",
   "name": "python",
   "nbconvert_exporter": "python",
   "pygments_lexer": "ipython2",
   "version": "2.7.12"
  }
 },
 "nbformat": 4,
 "nbformat_minor": 1
}
