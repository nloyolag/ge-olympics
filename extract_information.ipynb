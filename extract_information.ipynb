{
 "cells": [
  {
   "cell_type": "code",
   "execution_count": 1,
   "metadata": {
    "collapsed": true
   },
   "outputs": [],
   "source": [
    "import gzip\n",
    "import json\n",
    "import pandas as pd\n",
    "import os\n",
    "import multiprocessing\n",
    "from functools import reduce, partial"
   ]
  },
  {
   "cell_type": "code",
   "execution_count": 2,
   "metadata": {
    "collapsed": false
   },
   "outputs": [
    {
     "ename": "IOError",
     "evalue": "[Errno 2] No such file or directory: './olympics/2016-08-02-14.gz'",
     "output_type": "error",
     "traceback": [
      "\u001b[0;31m---------------------------------------------------------------------------\u001b[0m",
      "\u001b[0;31mIOError\u001b[0m                                   Traceback (most recent call last)",
      "\u001b[0;32m<ipython-input-2-e5a9967f21c7>\u001b[0m in \u001b[0;36m<module>\u001b[0;34m()\u001b[0m\n\u001b[1;32m      2\u001b[0m \u001b[1;33m\u001b[0m\u001b[0m\n\u001b[1;32m      3\u001b[0m \u001b[0mtweets\u001b[0m \u001b[1;33m=\u001b[0m \u001b[1;33m[\u001b[0m\u001b[1;33m]\u001b[0m\u001b[1;33m\u001b[0m\u001b[0m\n\u001b[0;32m----> 4\u001b[0;31m \u001b[1;32mwith\u001b[0m \u001b[0mgzip\u001b[0m\u001b[1;33m.\u001b[0m\u001b[0mopen\u001b[0m\u001b[1;33m(\u001b[0m\u001b[1;34m\"./olympics/2016-08-02-14.gz\"\u001b[0m\u001b[1;33m)\u001b[0m \u001b[1;32mas\u001b[0m \u001b[0mf\u001b[0m\u001b[1;33m:\u001b[0m\u001b[1;33m\u001b[0m\u001b[0m\n\u001b[0m\u001b[1;32m      5\u001b[0m     \u001b[1;32mfor\u001b[0m \u001b[0mline\u001b[0m \u001b[1;32min\u001b[0m \u001b[0mf\u001b[0m\u001b[1;33m.\u001b[0m\u001b[0mreadlines\u001b[0m\u001b[1;33m(\u001b[0m\u001b[1;33m)\u001b[0m\u001b[1;33m:\u001b[0m\u001b[1;33m\u001b[0m\u001b[0m\n\u001b[1;32m      6\u001b[0m         \u001b[0mtweets\u001b[0m\u001b[1;33m.\u001b[0m\u001b[0mappend\u001b[0m\u001b[1;33m(\u001b[0m\u001b[0mjson\u001b[0m\u001b[1;33m.\u001b[0m\u001b[0mloads\u001b[0m\u001b[1;33m(\u001b[0m\u001b[0mline\u001b[0m\u001b[1;33m)\u001b[0m\u001b[1;33m)\u001b[0m\u001b[1;33m\u001b[0m\u001b[0m\n",
      "\u001b[0;32mC:\\Users\\Rodrack\\Anaconda\\envs\\olympics\\lib\\gzip.pyc\u001b[0m in \u001b[0;36mopen\u001b[0;34m(filename, mode, compresslevel)\u001b[0m\n\u001b[1;32m     32\u001b[0m \u001b[1;33m\u001b[0m\u001b[0m\n\u001b[1;32m     33\u001b[0m     \"\"\"\n\u001b[0;32m---> 34\u001b[0;31m     \u001b[1;32mreturn\u001b[0m \u001b[0mGzipFile\u001b[0m\u001b[1;33m(\u001b[0m\u001b[0mfilename\u001b[0m\u001b[1;33m,\u001b[0m \u001b[0mmode\u001b[0m\u001b[1;33m,\u001b[0m \u001b[0mcompresslevel\u001b[0m\u001b[1;33m)\u001b[0m\u001b[1;33m\u001b[0m\u001b[0m\n\u001b[0m\u001b[1;32m     35\u001b[0m \u001b[1;33m\u001b[0m\u001b[0m\n\u001b[1;32m     36\u001b[0m \u001b[1;32mclass\u001b[0m \u001b[0mGzipFile\u001b[0m\u001b[1;33m(\u001b[0m\u001b[0mio\u001b[0m\u001b[1;33m.\u001b[0m\u001b[0mBufferedIOBase\u001b[0m\u001b[1;33m)\u001b[0m\u001b[1;33m:\u001b[0m\u001b[1;33m\u001b[0m\u001b[0m\n",
      "\u001b[0;32mC:\\Users\\Rodrack\\Anaconda\\envs\\olympics\\lib\\gzip.pyc\u001b[0m in \u001b[0;36m__init__\u001b[0;34m(self, filename, mode, compresslevel, fileobj, mtime)\u001b[0m\n\u001b[1;32m     92\u001b[0m             \u001b[0mmode\u001b[0m \u001b[1;33m+=\u001b[0m \u001b[1;34m'b'\u001b[0m\u001b[1;33m\u001b[0m\u001b[0m\n\u001b[1;32m     93\u001b[0m         \u001b[1;32mif\u001b[0m \u001b[0mfileobj\u001b[0m \u001b[1;32mis\u001b[0m \u001b[0mNone\u001b[0m\u001b[1;33m:\u001b[0m\u001b[1;33m\u001b[0m\u001b[0m\n\u001b[0;32m---> 94\u001b[0;31m             \u001b[0mfileobj\u001b[0m \u001b[1;33m=\u001b[0m \u001b[0mself\u001b[0m\u001b[1;33m.\u001b[0m\u001b[0mmyfileobj\u001b[0m \u001b[1;33m=\u001b[0m \u001b[0m__builtin__\u001b[0m\u001b[1;33m.\u001b[0m\u001b[0mopen\u001b[0m\u001b[1;33m(\u001b[0m\u001b[0mfilename\u001b[0m\u001b[1;33m,\u001b[0m \u001b[0mmode\u001b[0m \u001b[1;32mor\u001b[0m \u001b[1;34m'rb'\u001b[0m\u001b[1;33m)\u001b[0m\u001b[1;33m\u001b[0m\u001b[0m\n\u001b[0m\u001b[1;32m     95\u001b[0m         \u001b[1;32mif\u001b[0m \u001b[0mfilename\u001b[0m \u001b[1;32mis\u001b[0m \u001b[0mNone\u001b[0m\u001b[1;33m:\u001b[0m\u001b[1;33m\u001b[0m\u001b[0m\n\u001b[1;32m     96\u001b[0m             \u001b[1;31m# Issue #13781: os.fdopen() creates a fileobj with a bogus name\u001b[0m\u001b[1;33m\u001b[0m\u001b[1;33m\u001b[0m\u001b[0m\n",
      "\u001b[0;31mIOError\u001b[0m: [Errno 2] No such file or directory: './olympics/2016-08-02-14.gz'"
     ]
    }
   ],
   "source": [
    "# What was the impact of the GE brand in the collection of tweets gathered in the past Olympic games?\n",
    "\n",
    "tweets = []\n",
    "with gzip.open(\"./olympics/2016-08-02-14.gz\") as f:\n",
    "    for line in f.readlines():\n",
    "        tweets.append(json.loads(line))\n",
    "        \n",
    "dataset = pd.DataFrame(tweets)\n",
    "dataset.info()"
   ]
  },
  {
   "cell_type": "code",
   "execution_count": 10,
   "metadata": {
    "collapsed": false
   },
   "outputs": [],
   "source": [
    "# Create additional columns\n",
    "dataset['screen_name'] = dataset.user.map(lambda x: x['screen_name'].lower())\n",
    "dataset['name'] = dataset.user.map(lambda x: x['name'].lower())\n",
    "dataset['statuses_count'] = dataset.user.map(lambda x: x['statuses_count'])\n",
    "dataset['followers_count'] = dataset.user.map(lambda x: x['followers_count'])\n",
    "dataset['text_lower'] = dataset.text.apply(lambda x: x.lower())"
   ]
  },
  {
   "cell_type": "code",
   "execution_count": 19,
   "metadata": {
    "collapsed": false
   },
   "outputs": [
    {
     "data": {
      "text/plain": [
       "{u'contributors': None,\n",
       " u'coordinates': None,\n",
       " u'created_at': u'Tue Aug 02 13:50:39 +0000 2016',\n",
       " u'entities': {u'hashtags': [],\n",
       "  u'media': [{u'display_url': u'pic.twitter.com/FZk4qH2HKo',\n",
       "    u'expanded_url': u'http://twitter.com/lee_young_jae/status/760472886276526080/photo/1',\n",
       "    u'id': 760472883780915200,\n",
       "    u'id_str': u'760472883780915200',\n",
       "    u'indices': [72, 95],\n",
       "    u'media_url': u'http://pbs.twimg.com/media/Co2-DwMUEAA7Azo.jpg',\n",
       "    u'media_url_https': u'https://pbs.twimg.com/media/Co2-DwMUEAA7Azo.jpg',\n",
       "    u'sizes': {u'large': {u'h': 330, u'resize': u'fit', u'w': 620},\n",
       "     u'medium': {u'h': 330, u'resize': u'fit', u'w': 620},\n",
       "     u'small': {u'h': 330, u'resize': u'fit', u'w': 620},\n",
       "     u'thumb': {u'h': 150, u'resize': u'crop', u'w': 150}},\n",
       "    u'type': u'photo',\n",
       "    u'url': u'https://t.co/FZk4qH2HKo'}],\n",
       "  u'symbols': [],\n",
       "  u'urls': [{u'display_url': u'dlvr.it/LxQpD6',\n",
       "    u'expanded_url': u'http://dlvr.it/LxQpD6',\n",
       "    u'indices': [48, 71],\n",
       "    u'url': u'https://t.co/49kw7KKirN'}],\n",
       "  u'user_mentions': []},\n",
       " u'extended_entities': {u'media': [{u'display_url': u'pic.twitter.com/FZk4qH2HKo',\n",
       "    u'expanded_url': u'http://twitter.com/lee_young_jae/status/760472886276526080/photo/1',\n",
       "    u'id': 760472883780915200,\n",
       "    u'id_str': u'760472883780915200',\n",
       "    u'indices': [72, 95],\n",
       "    u'media_url': u'http://pbs.twimg.com/media/Co2-DwMUEAA7Azo.jpg',\n",
       "    u'media_url_https': u'https://pbs.twimg.com/media/Co2-DwMUEAA7Azo.jpg',\n",
       "    u'sizes': {u'large': {u'h': 330, u'resize': u'fit', u'w': 620},\n",
       "     u'medium': {u'h': 330, u'resize': u'fit', u'w': 620},\n",
       "     u'small': {u'h': 330, u'resize': u'fit', u'w': 620},\n",
       "     u'thumb': {u'h': 150, u'resize': u'crop', u'w': 150}},\n",
       "    u'type': u'photo',\n",
       "    u'url': u'https://t.co/FZk4qH2HKo'}]},\n",
       " u'favorite_count': 0,\n",
       " u'favorited': False,\n",
       " u'filter_level': u'low',\n",
       " u'geo': None,\n",
       " u'id': 760472886276526080,\n",
       " u'id_str': u'760472886276526080',\n",
       " u'in_reply_to_screen_name': None,\n",
       " u'in_reply_to_status_id': None,\n",
       " u'in_reply_to_status_id_str': None,\n",
       " u'in_reply_to_user_id': None,\n",
       " u'in_reply_to_user_id_str': None,\n",
       " u'is_quote_status': False,\n",
       " u'lang': u'en',\n",
       " u'place': None,\n",
       " u'possibly_sensitive': False,\n",
       " u'retweet_count': 1,\n",
       " u'retweeted': False,\n",
       " u'source': u'<a href=\"http://dlvr.it\" rel=\"nofollow\">dlvr.it</a>',\n",
       " u'text': u'Absolute Olympic Ban on Russia infringe justice https://t.co/49kw7KKirN https://t.co/FZk4qH2HKo',\n",
       " u'truncated': False,\n",
       " u'user': {u'contributors_enabled': False,\n",
       "  u'created_at': u'Thu Dec 23 12:59:32 +0000 2010',\n",
       "  u'default_profile': False,\n",
       "  u'default_profile_image': False,\n",
       "  u'description': u'Love,Faith,Hope\\u2122 ||PHD|| Behaviorist ||Physics|| Edsheeran\\u266c|| ChelseaFc||#DubNation|London || Pretoria |Seoul l| \\xae #TeamVivaGhana',\n",
       "  u'favourites_count': 348,\n",
       "  u'follow_request_sent': None,\n",
       "  u'followers_count': 4798,\n",
       "  u'following': None,\n",
       "  u'friends_count': 1455,\n",
       "  u'geo_enabled': True,\n",
       "  u'id': 229830946,\n",
       "  u'id_str': u'229830946',\n",
       "  u'is_translator': False,\n",
       "  u'lang': u'en',\n",
       "  u'listed_count': 26,\n",
       "  u'location': u'United States Of Achimota ',\n",
       "  u'name': u'Shun Alexander\\u2744',\n",
       "  u'notifications': None,\n",
       "  u'profile_background_color': u'EBEBEB',\n",
       "  u'profile_background_image_url': u'http://abs.twimg.com/images/themes/theme7/bg.gif',\n",
       "  u'profile_background_image_url_https': u'https://abs.twimg.com/images/themes/theme7/bg.gif',\n",
       "  u'profile_background_tile': False,\n",
       "  u'profile_banner_url': u'https://pbs.twimg.com/profile_banners/229830946/1467924491',\n",
       "  u'profile_image_url': u'http://pbs.twimg.com/profile_images/754665565734723584/sHR714db_normal.jpg',\n",
       "  u'profile_image_url_https': u'https://pbs.twimg.com/profile_images/754665565734723584/sHR714db_normal.jpg',\n",
       "  u'profile_link_color': u'990000',\n",
       "  u'profile_sidebar_border_color': u'DFDFDF',\n",
       "  u'profile_sidebar_fill_color': u'F3F3F3',\n",
       "  u'profile_text_color': u'333333',\n",
       "  u'profile_use_background_image': True,\n",
       "  u'protected': False,\n",
       "  u'screen_name': u'lee_young_jae',\n",
       "  u'statuses_count': 100143,\n",
       "  u'time_zone': u'London',\n",
       "  u'url': u'http://www.vivaghana.com',\n",
       "  u'utc_offset': 3600,\n",
       "  u'verified': False}}"
      ]
     },
     "execution_count": 19,
     "metadata": {},
     "output_type": "execute_result"
    }
   ],
   "source": [
    "dataset['retweeted_status'][3]"
   ]
  },
  {
   "cell_type": "code",
   "execution_count": 14,
   "metadata": {
    "collapsed": false
   },
   "outputs": [
    {
     "data": {
      "text/plain": [
       "{'accounts': {},\n",
       " 'hashtags': {'#@ge': 0,\n",
       "  '#@ge_appliances': 0,\n",
       "  '#@ge_canada': 0,\n",
       "  '#@ge_digital': 0,\n",
       "  '#@ge_foundation': 0,\n",
       "  '#@ge_gaspower': 0,\n",
       "  '#@ge_oilandgas': 0,\n",
       "  '#@ge_power': 0,\n",
       "  '#@ge_reports': 0,\n",
       "  '#@ge_uk': 0,\n",
       "  '#@ge_water': 0,\n",
       "  '#@geaviation': 0,\n",
       "  '#@gecapital': 0,\n",
       "  '#@gecareeers_latam': 0,\n",
       "  '#@gedesign': 0,\n",
       "  '#@gedobrasil': 0,\n",
       "  '#@gehealthcare': 0,\n",
       "  '#@geinfosec': 0,\n",
       "  '#@gelighting': 0,\n",
       "  '#@generalelectric': 0,\n",
       "  '#@gepublicaffairs': 0,\n",
       "  '#@geresearch': 0,\n",
       "  '#ge': 22,\n",
       "  '#general_electric': 0,\n",
       "  '$ge': 0},\n",
       " 'mentions': {'@ge': 8,\n",
       "  '@ge_appliances': 0,\n",
       "  '@ge_canada': 0,\n",
       "  '@ge_digital': 0,\n",
       "  '@ge_foundation': 0,\n",
       "  '@ge_gaspower': 0,\n",
       "  '@ge_oilandgas': 0,\n",
       "  '@ge_power': 0,\n",
       "  '@ge_reports': 0,\n",
       "  '@ge_uk': 0,\n",
       "  '@ge_water': 0,\n",
       "  '@geaviation': 0,\n",
       "  '@gecapital': 0,\n",
       "  '@gecareeers_latam': 0,\n",
       "  '@gedesign': 0,\n",
       "  '@gedobrasil': 0,\n",
       "  '@gehealthcare': 0,\n",
       "  '@geinfosec': 0,\n",
       "  '@gelighting': 0,\n",
       "  '@generalelectric': 0,\n",
       "  '@gepublicaffairs': 0,\n",
       "  '@geresearch': 0},\n",
       " 'text_mentions': {'ge.com': 3, 'general electric': 0, 'generalelectric': 0},\n",
       " 'total_hashtags': 22,\n",
       " 'total_mentions': 8,\n",
       " 'total_text_mentions': 3,\n",
       " 'tweets-by-ge': 0}"
      ]
     },
     "execution_count": 14,
     "metadata": {},
     "output_type": "execute_result"
    }
   ],
   "source": [
    "# Volume\n",
    "volume_dict = {}\n",
    "\n",
    "# Tweets by GE\n",
    "ge_accounts = ['generalelectric', \n",
    "               'ge_reports', \n",
    "               'gedobrasil', \n",
    "               'ge_canada', \n",
    "               'gehealthcare', \n",
    "               'ge_digital', \n",
    "               'gedesign', \n",
    "               'ge_water', \n",
    "               'gecareeers_latam', \n",
    "               'geaviation', \n",
    "               'ge_appliances', \n",
    "               'gepublicaffairs', \n",
    "               'gecapital', \n",
    "               'ge_uk', \n",
    "               'geinfosec', \n",
    "               'ge_power', \n",
    "               'geresearch', \n",
    "               'ge_oilandgas', \n",
    "               'gelighting', \n",
    "               'ge_foundation', \n",
    "               'ge_gaspower']\n",
    "ge_tweets = dataset[dataset['screen_name'].isin(ge_accounts)]\n",
    "volume_dict[\"tweets-by-ge\"] = len(ge_tweets)\n",
    "\n",
    "# Followers and tweet count per account\n",
    "volume_dict['accounts'] = {}\n",
    "ge_tweets_unique = ge_tweets.drop_duplicates(subset='screen_name')\n",
    "ge_tweets_unique = ge_tweets_unique[['name', 'screen_name', 'statuses_count', 'followers_count']]\n",
    "for index, row in ge_tweets_unique.iterrows():\n",
    "    volume_dict['accounts'][row['screen_name']] = {\n",
    "        'name': row['name'],\n",
    "        'tweets': row['statuses_count'],\n",
    "        'followers': row['followers_count'] \n",
    "    }\n",
    "    \n",
    "# Function to get counts per element\n",
    "def get_counts(elem_list, volume_dict, dataset, key):\n",
    "    current_count = 0\n",
    "    total_count = 0\n",
    "    for elem in elem_list:\n",
    "        current_count = len(dataset[dataset['text_lower'].str.contains(elem)])\n",
    "        volume_dict[key][elem] = current_count\n",
    "        total_count += current_count\n",
    "    return total_count\n",
    "\n",
    "# Dataset excluding GE's accounts\n",
    "exclude_ge = dataset[~dataset['screen_name'].isin(ge_accounts)]\n",
    "    \n",
    "# Mentions of GE accounts\n",
    "volume_dict['mentions'] = {}\n",
    "ge_mentions = list(ge_accounts)\n",
    "ge_mentions = ['@{0}'.format(account) for account in ge_mentions]\n",
    "ge_mentions.append(\"@ge\")\n",
    "volume_dict['total_mentions'] = get_counts(ge_mentions, volume_dict, exclude_ge, 'mentions')\n",
    "\n",
    "# Hashtags of GE\n",
    "volume_dict['hashtags'] = {}\n",
    "ge_hashtags = list(ge_accounts)\n",
    "ge_hashtags = ['#{0}'.format(account) for account in ge_mentions]\n",
    "ge_hashtags.append(\"$ge\")\n",
    "ge_hashtags.append(\"#ge\")\n",
    "ge_hashtags.append(\"#general_electric\")\n",
    "volume_dict['total_hashtags'] = get_counts(ge_hashtags, volume_dict, exclude_ge, 'hashtags')\n",
    "\n",
    "# GE mentioned in text\n",
    "volume_dict['text_mentions'] = {}\n",
    "ge_text = ['general electric', 'generalelectric', 'ge.com']\n",
    "volume_dict['total_text_mentions'] = get_counts(ge_text, volume_dict, exclude_ge, 'text_mentions')\n",
    "\n",
    "volume_dict"
   ]
  },
  {
   "cell_type": "code",
   "execution_count": null,
   "metadata": {
    "collapsed": true
   },
   "outputs": [],
   "source": [
    "# Reach\n",
    "\n",
    "# "
   ]
  },
  {
   "cell_type": "code",
   "execution_count": null,
   "metadata": {
    "collapsed": true
   },
   "outputs": [],
   "source": [
    "# Sentiment"
   ]
  },
  {
   "cell_type": "code",
   "execution_count": null,
   "metadata": {
    "collapsed": true
   },
   "outputs": [],
   "source": [
    "# Audience Characteristics\n",
    "\n",
    "# Lang\n",
    "# Location\n",
    "\n",
    "# Most active participants\n",
    "# Most influential participants\n",
    "# Most influential content"
   ]
  }
 ],
 "metadata": {
  "anaconda-cloud": {},
  "kernelspec": {
   "display_name": "Python [default]",
   "language": "python",
   "name": "python2"
  },
  "language_info": {
   "codemirror_mode": {
    "name": "ipython",
    "version": 2
   },
   "file_extension": ".py",
   "mimetype": "text/x-python",
   "name": "python",
   "nbconvert_exporter": "python",
   "pygments_lexer": "ipython2",
   "version": "2.7.12"
  }
 },
 "nbformat": 4,
 "nbformat_minor": 1
}
