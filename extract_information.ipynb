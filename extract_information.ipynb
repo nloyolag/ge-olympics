{
 "cells": [
  {
   "cell_type": "code",
   "execution_count": 2,
   "metadata": {
    "collapsed": true
   },
   "outputs": [],
   "source": [
    "import gzip\n",
    "import json\n",
    "import pandas as pd\n",
    "import numpy as np\n",
    "import os\n",
    "import re"
   ]
  },
  {
   "cell_type": "code",
   "execution_count": 3,
   "metadata": {
    "collapsed": false
   },
   "outputs": [
    {
     "name": "stdout",
     "output_type": "stream",
     "text": [
      "<class 'pandas.core.frame.DataFrame'>\n",
      "RangeIndex: 6261 entries, 0 to 6260\n",
      "Data columns (total 32 columns):\n",
      "contributors                 0 non-null object\n",
      "coordinates                  15 non-null object\n",
      "created_at                   6261 non-null object\n",
      "entities                     6261 non-null object\n",
      "extended_entities            2388 non-null object\n",
      "favorite_count               6261 non-null int64\n",
      "favorited                    6261 non-null bool\n",
      "filter_level                 6261 non-null object\n",
      "geo                          15 non-null object\n",
      "id                           6261 non-null int64\n",
      "id_str                       6261 non-null object\n",
      "in_reply_to_screen_name      213 non-null object\n",
      "in_reply_to_status_id        147 non-null float64\n",
      "in_reply_to_status_id_str    147 non-null object\n",
      "in_reply_to_user_id          213 non-null float64\n",
      "in_reply_to_user_id_str      213 non-null object\n",
      "is_quote_status              6261 non-null bool\n",
      "lang                         6261 non-null object\n",
      "place                        114 non-null object\n",
      "possibly_sensitive           5005 non-null object\n",
      "quoted_status                134 non-null object\n",
      "quoted_status_id             134 non-null float64\n",
      "quoted_status_id_str         134 non-null object\n",
      "retweet_count                6261 non-null int64\n",
      "retweeted                    6261 non-null bool\n",
      "retweeted_status             3200 non-null object\n",
      "source                       6261 non-null object\n",
      "text                         6261 non-null object\n",
      "timestamp_ms                 6261 non-null object\n",
      "truncated                    6261 non-null bool\n",
      "user                         6261 non-null object\n",
      "withheld_in_countries        1 non-null object\n",
      "dtypes: bool(4), float64(3), int64(3), object(22)\n",
      "memory usage: 1.4+ MB\n"
     ]
    }
   ],
   "source": [
    "# What was the impact of the GE brand in the collection of tweets gathered in the past Olympic games?\n",
    "\n",
    "tweets = []\n",
    "with gzip.open(\"./olympics/2016-08-02-14.gz\") as f:\n",
    "    for line in f.readlines():\n",
    "        tweets.append(json.loads(line))\n",
    "        \n",
    "dataset = pd.DataFrame(tweets)\n",
    "dataset.info()"
   ]
  },
  {
   "cell_type": "code",
   "execution_count": 4,
   "metadata": {
    "collapsed": false
   },
   "outputs": [],
   "source": [
    "# Create additional columns\n",
    "dataset['screen_name'] = dataset.user.map(lambda x: x['screen_name'].lower())\n",
    "dataset['name'] = dataset.user.map(lambda x: x['name'].lower())\n",
    "dataset['statuses_count'] = dataset.user.map(lambda x: x['statuses_count'])\n",
    "dataset['followers_count'] = dataset.user.map(lambda x: x['followers_count'])\n",
    "dataset['text_lower'] = dataset.text.apply(lambda x: x.lower())"
   ]
  },
  {
   "cell_type": "code",
   "execution_count": 27,
   "metadata": {
    "collapsed": false
   },
   "outputs": [
    {
     "data": {
      "text/plain": [
       "0"
      ]
     },
     "execution_count": 27,
     "metadata": {},
     "output_type": "execute_result"
    }
   ],
   "source": [
    "ge_accounts = ['generalelectric', \n",
    "               'ge_reports', \n",
    "               'gedobrasil', \n",
    "               'ge_canada', \n",
    "               'gehealthcare', \n",
    "               'ge_digital', \n",
    "               'gedesign', \n",
    "               'ge_water', \n",
    "               'gecareeers_latam', \n",
    "               'geaviation', \n",
    "               'ge_appliances', \n",
    "               'gepublicaffairs', \n",
    "               'gecapital', \n",
    "               'ge_uk', \n",
    "               'geinfosec', \n",
    "               'ge_power', \n",
    "               'geresearch', \n",
    "               'ge_oilandgas', \n",
    "               'gelighting', \n",
    "               'ge_foundation', \n",
    "               'ge_gaspower']\n",
    "dataset['favorite_count'][3]"
   ]
  },
  {
   "cell_type": "code",
   "execution_count": 6,
   "metadata": {
    "collapsed": false
   },
   "outputs": [
    {
     "data": {
      "text/plain": [
       "{'accounts': {},\n",
       " 'hashtags': {'#@ge_appliances': 0,\n",
       "  '#@ge_canada': 0,\n",
       "  '#@ge_digital': 0,\n",
       "  '#@ge_foundation': 0,\n",
       "  '#@ge_gaspower': 0,\n",
       "  '#@ge_oilandgas': 0,\n",
       "  '#@ge_power': 0,\n",
       "  '#@ge_reports': 0,\n",
       "  '#@ge_uk': 0,\n",
       "  '#@ge_water': 0,\n",
       "  '#@geaviation': 0,\n",
       "  '#@gecapital': 0,\n",
       "  '#@gecareeers_latam': 0,\n",
       "  '#@gedesign': 0,\n",
       "  '#@gedobrasil': 0,\n",
       "  '#@gehealthcare': 0,\n",
       "  '#@geinfosec': 0,\n",
       "  '#@gelighting': 0,\n",
       "  '#@generalelectric': 0,\n",
       "  '#@gepublicaffairs': 0,\n",
       "  '#@geresearch': 0,\n",
       "  '#ge': 0,\n",
       "  '#general_electric': 0,\n",
       "  '$ge': 0},\n",
       " 'mentions': {'@ge': 0,\n",
       "  '@ge_appliances': 0,\n",
       "  '@ge_canada': 0,\n",
       "  '@ge_digital': 0,\n",
       "  '@ge_foundation': 0,\n",
       "  '@ge_gaspower': 0,\n",
       "  '@ge_oilandgas': 0,\n",
       "  '@ge_power': 0,\n",
       "  '@ge_reports': 0,\n",
       "  '@ge_uk': 0,\n",
       "  '@ge_water': 0,\n",
       "  '@geaviation': 0,\n",
       "  '@gecapital': 0,\n",
       "  '@gecareeers_latam': 0,\n",
       "  '@gedesign': 0,\n",
       "  '@gedobrasil': 0,\n",
       "  '@gehealthcare': 0,\n",
       "  '@geinfosec': 0,\n",
       "  '@gelighting': 0,\n",
       "  '@generalelectric': 0,\n",
       "  '@gepublicaffairs': 0,\n",
       "  '@geresearch': 0},\n",
       " 'text_mentions': {'ge.com': 0, 'general electric': 0, 'generalelectric': 0},\n",
       " 'total_hashtags': 0,\n",
       " 'total_mentions': 0,\n",
       " 'total_text_mentions': 0,\n",
       " 'tweets-by-ge': 0}"
      ]
     },
     "execution_count": 6,
     "metadata": {},
     "output_type": "execute_result"
    }
   ],
   "source": [
    "# Volume\n",
    "volume_dict = {}\n",
    "\n",
    "# Tweets by GE\n",
    "ge_tweets = dataset[dataset['screen_name'].isin(ge_accounts)]\n",
    "volume_dict[\"tweets-by-ge\"] = len(ge_tweets)\n",
    "\n",
    "# Followers and tweet count per account\n",
    "volume_dict['accounts'] = {}\n",
    "ge_tweets_unique = ge_tweets.drop_duplicates(subset='screen_name')\n",
    "ge_tweets_unique = ge_tweets_unique[['name', 'screen_name', 'statuses_count', 'followers_count']]\n",
    "for index, row in ge_tweets_unique.iterrows():\n",
    "    volume_dict['accounts'][row['screen_name']] = {\n",
    "        'name': row['name'],\n",
    "        'tweets': row['statuses_count'],\n",
    "        'followers': row['followers_count'] \n",
    "    }\n",
    "         \n",
    "# Function to get counts per element\n",
    "def get_counts(elem_list, volume_dict, dataset, key):\n",
    "    current_count = 0\n",
    "    total_count = 0\n",
    "    for elem in elem_list:\n",
    "        current_count = len(dataset[dataset['text_lower'].str.contains(elem)])\n",
    "        volume_dict[key][elem] = current_count\n",
    "        total_count += current_count\n",
    "    return total_count\n",
    "\n",
    "# Function to get counts for a regex\n",
    "def get_regex_counts(volume_dict, dataset, key, regex, regexstr):\n",
    "    count = len(dataset[dataset['text_lower'].str.match(regex)])\n",
    "    volume_dict[key][regexstr] = count\n",
    "    return count\n",
    "\n",
    "# Dataset excluding GE's accounts\n",
    "exclude_ge = dataset[~dataset['screen_name'].isin(ge_accounts)]\n",
    "    \n",
    "# Mentions of GE accounts\n",
    "volume_dict['mentions'] = {}\n",
    "ge_mentions = list(ge_accounts)\n",
    "ge_mentions = ['@{0}'.format(account) for account in ge_mentions]\n",
    "ge_regex = re.compile('@ge | @ge$')\n",
    "total_mentions = get_counts(ge_mentions, volume_dict, exclude_ge, 'mentions')\n",
    "total_mentions += get_regex_counts(volume_dict, exclude_ge, 'mentions', ge_regex, \"@ge\")\n",
    "volume_dict['total_mentions'] = total_mentions\n",
    "\n",
    "# Hashtags of GE\n",
    "volume_dict['hashtags'] = {}\n",
    "ge_hashtags = list(ge_accounts)\n",
    "ge_hashtags = ['#{0}'.format(account) for account in ge_mentions]\n",
    "ge_hashtags.append(\"#general_electric\")\n",
    "ge_hashtag_regex = re.compile('#ge | #ge$')\n",
    "ge_dollar_regex = re.compile('\\$ge | \\$ge$')\n",
    "total_hashtags = get_counts(ge_hashtags, volume_dict, exclude_ge, 'hashtags')\n",
    "total_hashtags = get_regex_counts(volume_dict, exclude_ge, 'hashtags', ge_dollar_regex, \"$ge\")\n",
    "total_hashtags = get_regex_counts(volume_dict, exclude_ge, 'hashtags', ge_hashtag_regex, \"#ge\")\n",
    "volume_dict['total_hashtags'] = total_hashtags\n",
    "\n",
    "# GE mentioned in text\n",
    "volume_dict['text_mentions'] = {}\n",
    "ge_text = ['general electric', 'generalelectric']\n",
    "ge_website_regex = re.compile('ge.com | ge.com$')\n",
    "total_hashtags = get_counts(ge_text, volume_dict, exclude_ge, 'text_mentions')\n",
    "total_hashtags += get_regex_counts(volume_dict, exclude_ge, 'text_mentions', ge_website_regex, \"ge.com\")\n",
    "volume_dict['total_text_mentions'] = total_hashtags\n",
    "\n",
    "volume_dict"
   ]
  },
  {
   "cell_type": "code",
   "execution_count": 10,
   "metadata": {
    "collapsed": false
   },
   "outputs": [
    {
     "ename": "AttributeError",
     "evalue": "'DataFrame' object has no attribute 'retweet_status'",
     "output_type": "error",
     "traceback": [
      "\u001b[0;31m---------------------------------------------------------------------------\u001b[0m",
      "\u001b[0;31mAttributeError\u001b[0m                            Traceback (most recent call last)",
      "\u001b[0;32m<ipython-input-10-8fcac460f012>\u001b[0m in \u001b[0;36m<module>\u001b[0;34m()\u001b[0m\n\u001b[1;32m     10\u001b[0m \u001b[0mge_retweets\u001b[0m \u001b[0;34m=\u001b[0m \u001b[0;34m[\u001b[0m\u001b[0;34m'^rt @{0}'\u001b[0m\u001b[0;34m.\u001b[0m\u001b[0mformat\u001b[0m\u001b[0;34m(\u001b[0m\u001b[0maccount\u001b[0m\u001b[0;34m)\u001b[0m \u001b[0;32mfor\u001b[0m \u001b[0maccount\u001b[0m \u001b[0;32min\u001b[0m \u001b[0mge_accounts\u001b[0m\u001b[0;34m]\u001b[0m\u001b[0;34m\u001b[0m\u001b[0m\n\u001b[1;32m     11\u001b[0m \u001b[0mge_retweeters\u001b[0m \u001b[0;34m=\u001b[0m \u001b[0mdataset\u001b[0m\u001b[0;34m[\u001b[0m\u001b[0mdataset\u001b[0m\u001b[0;34m[\u001b[0m\u001b[0;34m'text_lower'\u001b[0m\u001b[0;34m]\u001b[0m\u001b[0;34m.\u001b[0m\u001b[0mstr\u001b[0m\u001b[0;34m.\u001b[0m\u001b[0mcontains\u001b[0m\u001b[0;34m(\u001b[0m\u001b[0;34m'|'\u001b[0m\u001b[0;34m.\u001b[0m\u001b[0mjoin\u001b[0m\u001b[0;34m(\u001b[0m\u001b[0mge_retweets\u001b[0m\u001b[0;34m)\u001b[0m\u001b[0;34m)\u001b[0m\u001b[0;34m]\u001b[0m\u001b[0;34m\u001b[0m\u001b[0m\n\u001b[0;32m---> 12\u001b[0;31m \u001b[0mge_retweeters\u001b[0m\u001b[0;34m[\u001b[0m\u001b[0;34m'original_tweet_id'\u001b[0m\u001b[0;34m]\u001b[0m \u001b[0;34m=\u001b[0m \u001b[0mge_retweeters\u001b[0m\u001b[0;34m.\u001b[0m\u001b[0mretweet_status\u001b[0m\u001b[0;34m.\u001b[0m\u001b[0mmap\u001b[0m\u001b[0;34m(\u001b[0m\u001b[0;32mlambda\u001b[0m \u001b[0mx\u001b[0m\u001b[0;34m:\u001b[0m \u001b[0mx\u001b[0m\u001b[0;34m[\u001b[0m\u001b[0;34m'id'\u001b[0m\u001b[0;34m]\u001b[0m\u001b[0;34m)\u001b[0m\u001b[0;34m\u001b[0m\u001b[0m\n\u001b[0m\u001b[1;32m     13\u001b[0m \u001b[0mge_retweeters\u001b[0m\u001b[0;34m[\u001b[0m\u001b[0;34m'follower_count'\u001b[0m\u001b[0;34m]\u001b[0m \u001b[0;34m=\u001b[0m \u001b[0mge_retweeters\u001b[0m\u001b[0;34m.\u001b[0m\u001b[0muser\u001b[0m\u001b[0;34m.\u001b[0m\u001b[0mmap\u001b[0m\u001b[0;34m(\u001b[0m\u001b[0;32mlambda\u001b[0m \u001b[0mx\u001b[0m\u001b[0;34m:\u001b[0m \u001b[0mx\u001b[0m\u001b[0;34m[\u001b[0m\u001b[0;34m'follower_count'\u001b[0m\u001b[0;34m]\u001b[0m\u001b[0;34m)\u001b[0m\u001b[0;34m\u001b[0m\u001b[0m\n\u001b[1;32m     14\u001b[0m \u001b[0mge_retweeters\u001b[0m \u001b[0;34m=\u001b[0m \u001b[0mge_retweeters\u001b[0m\u001b[0;34m[\u001b[0m\u001b[0;34m'original_tweet_id'\u001b[0m\u001b[0;34m,\u001b[0m \u001b[0;34m'follower_count'\u001b[0m\u001b[0;34m]\u001b[0m\u001b[0;34m\u001b[0m\u001b[0m\n",
      "\u001b[0;32m/home/nloyola/anaconda2/envs/ge-olympics/lib/python2.7/site-packages/pandas/core/generic.pyc\u001b[0m in \u001b[0;36m__getattr__\u001b[0;34m(self, name)\u001b[0m\n\u001b[1;32m   2670\u001b[0m             \u001b[0;32mif\u001b[0m \u001b[0mname\u001b[0m \u001b[0;32min\u001b[0m \u001b[0mself\u001b[0m\u001b[0;34m.\u001b[0m\u001b[0m_info_axis\u001b[0m\u001b[0;34m:\u001b[0m\u001b[0;34m\u001b[0m\u001b[0m\n\u001b[1;32m   2671\u001b[0m                 \u001b[0;32mreturn\u001b[0m \u001b[0mself\u001b[0m\u001b[0;34m[\u001b[0m\u001b[0mname\u001b[0m\u001b[0;34m]\u001b[0m\u001b[0;34m\u001b[0m\u001b[0m\n\u001b[0;32m-> 2672\u001b[0;31m             \u001b[0;32mreturn\u001b[0m \u001b[0mobject\u001b[0m\u001b[0;34m.\u001b[0m\u001b[0m__getattribute__\u001b[0m\u001b[0;34m(\u001b[0m\u001b[0mself\u001b[0m\u001b[0;34m,\u001b[0m \u001b[0mname\u001b[0m\u001b[0;34m)\u001b[0m\u001b[0;34m\u001b[0m\u001b[0m\n\u001b[0m\u001b[1;32m   2673\u001b[0m \u001b[0;34m\u001b[0m\u001b[0m\n\u001b[1;32m   2674\u001b[0m     \u001b[0;32mdef\u001b[0m \u001b[0m__setattr__\u001b[0m\u001b[0;34m(\u001b[0m\u001b[0mself\u001b[0m\u001b[0;34m,\u001b[0m \u001b[0mname\u001b[0m\u001b[0;34m,\u001b[0m \u001b[0mvalue\u001b[0m\u001b[0;34m)\u001b[0m\u001b[0;34m:\u001b[0m\u001b[0;34m\u001b[0m\u001b[0m\n",
      "\u001b[0;31mAttributeError\u001b[0m: 'DataFrame' object has no attribute 'retweet_status'"
     ]
    }
   ],
   "source": [
    "# Reach\n",
    "\n",
    "# All tweets made by GE\n",
    "ge_tweets = dataset[dataset['screen_name'].isin(ge_accounts)]\n",
    "ge_tweets['follower_count'] = ge_tweets.user.map(lambda x: x['follower_count'])\n",
    "ge_tweets = ge_tweets['id', 'screen_name', 'retweet_count', 'follower_count', 'favorite_count']\n",
    "\n",
    "# GE retweeters\n",
    "exclude_ge = dataset[~dataset['screen_name'].isin(ge_accounts)]\n",
    "ge_retweets = ['^rt @{0}'.format(account) for account in ge_accounts]\n",
    "ge_retweeters = dataset[dataset['text_lower'].str.contains('|'.join(ge_retweets))]\n",
    "ge_retweeters['original_tweet_id'] = ge_retweeters.retweet_status.map(lambda x: x['id'])\n",
    "ge_retweeters['follower_count'] = ge_retweeters.user.map(lambda x: x['follower_count'])\n",
    "ge_retweeters = ge_retweeters['original_tweet_id', 'follower_count', 'favorite_count']\n",
    "\n",
    "# Calculate reach by summing followers of each retweeter\n",
    "retweet_reach = ge_retweeters.groupby('original_tweet_id')\n",
    "retweet_reach = retweet_reach.aggregate([np.sum, np.mean])\n",
    "type(retweet_reach)\n",
    "\n",
    "# Join the reach results to the original tweets\n",
    "reach = pd.merge(ge_tweets, retweet_reach, left_on='id', right_on='original_tweet_id', how='left')\n",
    "reach['total_favorites'] = reach['favorite_count_sum'] + reach['favorite_count']\n",
    "reach['total_impressions'] = reach['follower_count_sum'] + reach['follower_count']\n",
    "\n",
    "# Group results by account\n",
    "reach_per_account = reach.groupby('screen_name')\n",
    "reach_per_account = reach_per_account.aggregate([np.sum, np.avg])"
   ]
  },
  {
   "cell_type": "code",
   "execution_count": null,
   "metadata": {
    "collapsed": true
   },
   "outputs": [],
   "source": [
    "# Sentiment\n",
    "corpus = dataset['text_lower']\n",
    "sentiments = {}\n",
    "\n",
    "def get_sentiment(scores):\n",
    "    positive_value = scores['pos']\n",
    "    negative_value = scores['neg']\n",
    "    neutral_value = scores['neu']\n",
    "    \n",
    "    values = [positive_value, negative_value, neutral_value]\n",
    "    \n",
    "    if positive_value == max(values): return \"positive\"\n",
    "    if negative_value == max(values): return \"negative\"\n",
    "    if neutral_value == max(values): \n",
    "        if positive_value > 0.25 or negative_value > 0.25:\n",
    "            return \"positive\" if positive_value > negative_value else \"negative\"\n",
    "    \n",
    "def analyse_sentiment(corpus):\n",
    "    for index, row in corpus.iteritems():\n",
    "        scores = vaderSentiment(row.encode('utf-8'))\n",
    "        sentiments[row] = get_sentiment(scores)\n",
    "        \n",
    "analyse_sentiment(corpus)\n",
    "\n",
    "positive_tweets = sum(1 for x in sentiments.values() if x == \"positive\")\n",
    "negative_tweets = sum(1 for x in sentiments.values() if x == \"negative\")\n",
    "\n",
    "#View tweets (negative)\n",
    "#{k: v for k, v in sentiments.iteritems() if v == \"negative\"}\n",
    "\n",
    "#...as percentages\n",
    "#positive_tweets / float(len(corpus))\n",
    "#negative_tweets / float(len(corpus))"
   ]
  },
  {
   "cell_type": "code",
   "execution_count": null,
   "metadata": {
    "collapsed": true
   },
   "outputs": [],
   "source": [
    "# Audience Characteristics\n",
    "\n",
    "# Lang\n",
    "# Location\n",
    "\n",
    "# Most active participants\n",
    "top_participants = exclude_ge[['screen_name', 'text_lower']].groupby('screen_name').agg('count').sort('text_lower', ascending=False).rename(columns={'text_lower': 'count'})\n",
    "top_participants\n",
    "# Most influential participants\n",
    "# Most influential content"
   ]
  }
 ],
 "metadata": {
  "anaconda-cloud": {},
  "kernelspec": {
   "display_name": "Python 2",
   "language": "python",
   "name": "python2"
  },
  "language_info": {
   "codemirror_mode": {
    "name": "ipython",
    "version": 2
   },
   "file_extension": ".py",
   "mimetype": "text/x-python",
   "name": "python",
   "nbconvert_exporter": "python",
   "pygments_lexer": "ipython2",
   "version": "2.7.12"
  }
 },
 "nbformat": 4,
 "nbformat_minor": 1
}
